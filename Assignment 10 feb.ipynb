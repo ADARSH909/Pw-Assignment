{
 "cells": [
  {
   "cell_type": "code",
   "execution_count": null,
   "id": "cf54eae0-9dc4-47a3-bbf7-98ea120084be",
   "metadata": {},
   "outputs": [],
   "source": [
    "# Which function is used to open a file? What are the different modes of opening a file? Explain each mode of file opening.\n",
    "# Ans:\n",
    "The open function is used to open a file in Python. \n",
    "It takes the name of the file and an optional mode argument that specifies how the file should be opened. \n",
    "Here are the different modes for opening a file in Python:\n",
    "\n",
    "    'r' (read mode) - This is the default mode and is used to read an existing file. \n",
    "    The file must already exist, otherwise, an error will be raised.\n",
    "\n",
    "    'w' (write mode) - This mode is used to create a new file or overwrite an existing file. \n",
    "    If the file already exists, its contents will be deleted and replaced with the new data. \n",
    "    If the file doesn't exist, a new file will be created.\n",
    "\n",
    "    'a' (append mode) - This mode is used to append data to an existing file.\n",
    "    If the file already exists, the data will be written to the end of the file.\n",
    "    If the file doesn't exist, a new file will be created.\n",
    "\n",
    "    'x' (exclusive creation mode) - This mode is used to create a new file.\n",
    "    If the file already exists, an error will be raised. This mode is used to prevent the accidental overwriting of an existing file.\n",
    "\n",
    "    'b' (binary mode) - This mode is used to open a binary file.\n",
    "    It can be combined with any of the above modes, for example 'rb' for reading a binary file or 'wb' for writing a binary file."
   ]
  },
  {
   "cell_type": "code",
   "execution_count": null,
   "id": "0c61e060-c001-4707-a6b9-95b48f6348ea",
   "metadata": {},
   "outputs": [],
   "source": [
    " # Why close() function is used? Why is it important to close a file\n",
    "    # Ans\n",
    "    The close function is used to close a file in Python. When you're done working with a file, \n",
    "    it's important to close it to free up the system resources it's using and to ensure that any \n",
    "    changes you've made to the file are saved properly.\n",
    "\n",
    "When you open a file, the operating system reserves a certain amount of memory and other resources for it.\n",
    "If you open many files or keep them open for a long time without closing them, your program may run out of memory or other resources.\n",
    "\n",
    "Closing a file also ensures that any changes you've made to the file are saved properly.\n",
    "When you write to a file, the changes may be temporarily stored in a buffer instead of being written directly to the disk.\n",
    "Closing the file flushes the buffer, writing any remaining changes to the disk."
   ]
  },
  {
   "cell_type": "code",
   "execution_count": 4,
   "id": "f334e91d-1319-4a3b-84e5-9a303792c29c",
   "metadata": {},
   "outputs": [
    {
     "name": "stdout",
     "output_type": "stream",
     "text": [
      "I want to become a Data Scientist Closing a file also ensures that any changes you've made to the file are saved properly.When you write to a file, the changes may be temporarily stored in a buffer instead of being written directly to the disk.Closing the file flushes the buffer, writing any remaining changes to the disk.\n"
     ]
    }
   ],
   "source": [
    "# Write a python program to create a text file. Write ‘I want to become a Data Scientist’ in that file. Then \n",
    "# close the file. Open this file and read the content of the file\n",
    "# Ans:\n",
    "# Create a text file and write to it\n",
    "with open(\"textfile.txt\", \"w\") as f:\n",
    "    f.write(\"I want to become a Data Scientist Closing a file also ensures that any changes you've made to the file are saved properly.When you write to a file, the changes may be temporarily stored in a buffer instead of being written directly to the disk.Closing the file flushes the buffer, writing any remaining changes to the disk.\")\n",
    "    f.close()\n",
    "# Open the file and read its content\n",
    "with open(\"textfile.txt\", \"r\") as f:\n",
    "    content = f.read()\n",
    "    print(content)\n"
   ]
  },
  {
   "cell_type": "code",
   "execution_count": 5,
   "id": "56e59347-25b3-4075-9748-f5728e87c6f9",
   "metadata": {},
   "outputs": [
    {
     "name": "stdout",
     "output_type": "stream",
     "text": [
      "I want to become a Data Scientist Closing a file also ensures that any changes you've made to the file are saved properly.When you write to a file, the changes may be temporarily stored in a buffer instead of being written directly to the disk.Closing the file flushes the buffer, writing any remaining changes to the disk.\n",
      "I want to become a Data Scientist Closing a file also ensures that any changes you've made to the file are saved properly.When you write to a file, the changes may be temporarily stored in a buffer instead of being written directly to the disk.Closing the file flushes the buffer, writing any remaining changes to the disk.\n",
      "I want to become a Data Scientist Closing a file also ensures that any changes you've made to the file are saved properly.When you write to a file, the changes may be temporarily stored in a buffer instead of being written directly to the disk.Closing the file flushes the buffer, writing any remaining changes to the disk.\n"
     ]
    }
   ],
   "source": [
    " # Explain the following with python code: read(), readline() and readlines().\n",
    "# read(): This method reads the entire contents of a file as a single string. \n",
    "# It takes an optional argument that specifies the maximum number of characters to be read, \n",
    "# but if the argument is not provided, it will read the entire file.\n",
    "\n",
    "# Here's an example:\n",
    "\n",
    "with open(\"textfile.txt\", \"r\") as f:\n",
    "    content = f.read()\n",
    "    print(content)\n",
    "\n",
    "# readline(): This method reads a single line of a file at a time. \n",
    "# Each time you call readline(), it returns the next line in the file.\n",
    "# If the end of the file has been reached, it returns an empty string.\n",
    "\n",
    "# Here's an example:\n",
    "\n",
    "\n",
    "with open(\"textfile.txt\", \"r\") as f:\n",
    "    line = f.readline()\n",
    "    while line:\n",
    "        print(line)\n",
    "        line = f.readline()\n",
    "\n",
    "# readlines(): This method reads the entire contents of a file and returns it as a list of strings,\n",
    "# where each string represents a line in the file.\n",
    "\n",
    "# Here's an example:\n",
    "\n",
    "\n",
    "with open(\"textfile.txt\", \"r\") as f:\n",
    "    lines = f.readlines()\n",
    "    for line in lines:\n",
    "        print(line)"
   ]
  },
  {
   "cell_type": "code",
   "execution_count": null,
   "id": "a4bd95ee-97a6-41f6-b970-9a6928ac9627",
   "metadata": {},
   "outputs": [],
   "source": [
    "# Explain why with statement is used with open(). What is the advantage of using with statement and open() together\n",
    "# Ans:\n",
    "The with statement is used in Python to create a context in which an object is temporarily made available.\n",
    "This context is established by the with statement, and it is automatically exited when the block of code within\n",
    "the with statement is completed, even if an exception is raised.\n",
    "\n",
    "When used with open(), the with statement ensures that the file is properly closed after you are done working with it,\n",
    "even if an exception occurs while reading or writing to the file. This helps avoid resource leaks and ensures that the\n",
    "file is always in a consistent state, even in the face of errors or exceptions."
   ]
  },
  {
   "cell_type": "code",
   "execution_count": 7,
   "id": "64a04145-0695-42af-ab03-e0a16c86bead",
   "metadata": {},
   "outputs": [
    {
     "name": "stdout",
     "output_type": "stream",
     "text": [
      "I want to become a Data ScientistI love data analysisI am learning Python\n"
     ]
    }
   ],
   "source": [
    "# Explain the write() and writelines() functions. Give a suitable example.\n",
    "# Ans:\n",
    "# write() is used to write a string to a file. It takes a single argument, which is the string you want to write to the file. \n",
    "# For example:\n",
    "with open(\"textfile.txt\", \"w\") as f:\n",
    "    f.write(\"I want to become a Data Scientist\")\n",
    "# writelines() is used to write a list of strings to a file. It takes a single argument, which is a list of strings you want to write to the file. \n",
    "# For example:\n",
    "with open(\"textfile.txt\", \"w\") as f:\n",
    "    lines = [\"I want to become a Data Scientist\", \"I love data analysis\", \"I am learning Python\"]\n",
    "    f.writelines(lines)\n",
    "with open(\"textfile.txt\", \"r\") as f:\n",
    "    content = f.read()\n",
    "    print(content)\n"
   ]
  }
 ],
 "metadata": {
  "kernelspec": {
   "display_name": "Python 3 (ipykernel)",
   "language": "python",
   "name": "python3"
  },
  "language_info": {
   "codemirror_mode": {
    "name": "ipython",
    "version": 3
   },
   "file_extension": ".py",
   "mimetype": "text/x-python",
   "name": "python",
   "nbconvert_exporter": "python",
   "pygments_lexer": "ipython3",
   "version": "3.10.8"
  }
 },
 "nbformat": 4,
 "nbformat_minor": 5
}
