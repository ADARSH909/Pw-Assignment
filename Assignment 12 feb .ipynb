{
 "cells": [
  {
   "cell_type": "code",
   "execution_count": null,
   "id": "47e4ab7d-c76d-4480-95a5-f92732ba2bb8",
   "metadata": {},
   "outputs": [],
   "source": [
    "What is an Exception in python? Write the difference between Exceptions and syntx errors?\n",
    "Ans:\n",
    "In Python, an exception is an event, which occurs during the execution of a program that disrupts the normal flow of the program's instructions. \n",
    "Exceptions are raised when errors occur in a program. They provide a way for the programmer to handle errors and exceptions in a program in a \n",
    "controlled manner.\n",
    "\n",
    "For example, dividing a number by zero is an error that would raise an exception in Python. When such an error occurs,\n",
    "Python raises an exception (e.g. ZeroDivisionError) and terminates the current piece of code that caused the error. \n",
    "The program can then catch the exception and handle it in a way that makes sense for the particular use case.\n",
    "\n",
    "Handling exceptions is important because it allows the programmer to handle and recover from errors in a predictable and\n",
    "controlled manner, rather than allowing the program to crash or produce incorrect results.\n",
    "\n",
    "Syntax errors and exceptions are both types of errors that can occur in a Python program, but they are fundamentally different.\n",
    "\n",
    "Syntax errors, also known as parsing errors, occur when the Python interpreter encounters code that does not conform to the rules of the Python syntax.\n",
    "Syntax errors are detected before the code is executed and they prevent the code from running. For example, if you forget to include a colon at the end\n",
    "of a control flow statement, you will get a syntax error.\n",
    "\n",
    "Exceptions, on the other hand, are errors that occur during the execution of a program. They occur when a program encounters an unexpected situation,\n",
    "such as dividing a number by zero or trying to access an index in a list that doesn't exist. Unlike syntax errors, exceptions do not prevent the code\n",
    "from being executed, but they do change the normal flow of the program.\n",
    "\n",
    "In short, syntax errors prevent a program from running and exceptions are runtime errors that occur while a program is running."
   ]
  },
  {
   "cell_type": "code",
   "execution_count": null,
   "id": "42aa72fc-e061-4c09-8956-c6a77e0d1d32",
   "metadata": {},
   "outputs": [],
   "source": [
    " What happens when an exception is not handled? Explain with an example?\n",
    "Ans:When an exception is not handled, the program stops executing at the point where the exception was raised and terminates with an error message,\n",
    "also known as a traceback. The traceback provides information about the error, including the type of exception, the line number where the exception \n",
    "occurred, and a description of the error.\n",
    "\n",
    "For example, consider the following code:\n",
    "def divide(a, b):\n",
    "    return a / b\n",
    "\n",
    "print(divide(5, 2))\n",
    "print(divide(5, 0))\n"
   ]
  },
  {
   "cell_type": "code",
   "execution_count": 11,
   "id": "00c6089f-f759-42ee-9f4f-5e5048809f19",
   "metadata": {},
   "outputs": [],
   "source": [
    "# Which python statements are used to catch and handle exceptions?Explain with an Example.\n",
    "# Ans:In Python, exceptions can be caught and handled using a try-except block. The try block contains the code that may raise an exception,\n",
    "# and the except block contains the code that should be executed if an exception is raised.\n",
    "# example:\n",
    "import logging\n",
    "logging.basicConfig(filename = \"test.log\" ,level = logging.ERROR)\n",
    "try:\n",
    "    5 / 0\n",
    "except ZeroDivisionError as e:\n",
    "    logging.error(\"An error occurred:{}\" .format(e))\n"
   ]
  },
  {
   "cell_type": "code",
   "execution_count": 19,
   "id": "e472ee79-086c-4af0-90a7-367d23087997",
   "metadata": {},
   "outputs": [
    {
     "name": "stdout",
     "output_type": "stream",
     "text": [
      "Result: 2.5\n"
     ]
    }
   ],
   "source": [
    "# Explain with an example:\n",
    "import logging\n",
    "logging.basicConfig(filename = \"test.log\" ,level = logging.ERROR)\n",
    "\n",
    "#     a.try and else\n",
    "try:\n",
    "    result = 5 / 2\n",
    "except ZeroDivisionError:\n",
    "    logging.error(\"Cannot divide by zero{}\".format(e))\n",
    "else:\n",
    "    print(\"Result:\", result)\n"
   ]
  },
  {
   "cell_type": "code",
   "execution_count": 22,
   "id": "7bb887db-e41b-46e4-bc1e-ee3df98b6f8b",
   "metadata": {},
   "outputs": [
    {
     "name": "stdout",
     "output_type": "stream",
     "text": [
      "Clean up any resources here\n"
     ]
    }
   ],
   "source": [
    " #     b.finally\n",
    "import logging\n",
    "logging.basicConfig(filename = \"test1.log\" ,level = logging.ERROR)\n",
    "\n",
    "try:\n",
    "    result = 5 / 2\n",
    "except ZeroDivisionError:\n",
    "    logging.error(\"Cannot divide by zero{}\".format(e))\n",
    "finally:\n",
    "    print(\"Clean up any resources here\")\n"
   ]
  },
  {
   "cell_type": "code",
   "execution_count": 28,
   "id": "a29fed8e-4d58-48eb-bfcf-9f17f0c8612a",
   "metadata": {},
   "outputs": [],
   "source": [
    "\n",
    "#     c.raise\n",
    "import logging\n",
    "logging.basicConfig(filename = \"test1.log\" ,level = logging.ERROR)\n",
    "\n",
    "def divide(a, b):\n",
    "    if b == 0:\n",
    "        raise ValueError(\"Cannot divide by zero\")\n",
    "        return a / b\n",
    "try:\n",
    "    result = divide(5, 0)\n",
    "except ValueError as e:\n",
    "    logging.error(\"Error:{}\" .format(e))\n",
    "\n"
   ]
  },
  {
   "cell_type": "code",
   "execution_count": 27,
   "id": "f677fe2e-4f5b-44e9-9dcb-6445261e11b8",
   "metadata": {},
   "outputs": [],
   "source": [
    "# What are Custom Exceptions in python? Why do we need Custom Exceptions? Explain with an example?\n",
    "# ANS:\n",
    "#     Custom exceptions in Python are exceptions that are defined by the programmer rather than being part of the built-in \n",
    "#     exceptions provided by the language. Custom exceptions allow you to create more specific, tailored exceptions that are\n",
    "#     appropriate for your application.\n",
    "\n",
    "# The need for custom exceptions arises when the built-in exceptions provided by the language are too general to describe the\n",
    "# specific error conditions that you need to handle in your application. By creating custom exceptions, you can provide more \n",
    "# specific error messages and make it easier to catch and handle the errors that are specific to your application.\n",
    "\n",
    "# Here's an example that demonstrates the creation and use of a custom exception:\n",
    "import logging\n",
    "logging.basicConfig(filename = \"test.log\" ,level = logging.ERROR)\n",
    "\n",
    "class NegativeNumberError(Exception):\n",
    "    pass\n",
    "\n",
    "def square_root(x):\n",
    "    \n",
    "    if x < 0:\n",
    "        raise NegativeNumberError(\"Cannot take square root of negative number\")\n",
    "    return math.sqrt(x)\n",
    "\n",
    "try:\n",
    "    result = square_root(-5)\n",
    "except NegativeNumberError as e:\n",
    "    logging.error(\"Error:{}\" .format(e))\n"
   ]
  },
  {
   "cell_type": "code",
   "execution_count": 29,
   "id": "e6f8a501-c0ac-4e0e-b1df-0723838b4ab6",
   "metadata": {},
   "outputs": [],
   "source": [
    "# Create custom exception class. Use this class to handle an exception.\n",
    "import logging\n",
    "logging.basicConfig(filename = \"test.log\" ,level = logging.ERROR)\n",
    "\n",
    "class CustomException(Exception):\n",
    "    \"\"\"Custom exception class\"\"\"\n",
    "    def __init__(self, message):\n",
    "        self.message = message\n",
    "\n",
    "def divide(a, b):\n",
    "    if b == 0:\n",
    "        raise CustomException(\"Cannot divide by zero\")\n",
    "    return a / b\n",
    "\n",
    "try:\n",
    "    result = divide(5, 0)\n",
    "except CustomException as e:\n",
    "    logging.error(\"Error:{}\" .format(e.message))\n"
   ]
  }
 ],
 "metadata": {
  "kernelspec": {
   "display_name": "Python 3 (ipykernel)",
   "language": "python",
   "name": "python3"
  },
  "language_info": {
   "codemirror_mode": {
    "name": "ipython",
    "version": 3
   },
   "file_extension": ".py",
   "mimetype": "text/x-python",
   "name": "python",
   "nbconvert_exporter": "python",
   "pygments_lexer": "ipython3",
   "version": "3.10.8"
  }
 },
 "nbformat": 4,
 "nbformat_minor": 5
}
