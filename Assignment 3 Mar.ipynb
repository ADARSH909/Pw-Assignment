{
 "cells": [
  {
   "cell_type": "code",
   "execution_count": null,
   "id": "ef6c591b-569e-43b4-8616-901417eeedad",
   "metadata": {},
   "outputs": [],
   "source": [
    "Name any five plots that we can plot using the Seaborn library. Also, state the uses of each plot?\n",
    "Ans:\n",
    "Seaborn is a Python data visualization library built on top of Matplotlib. It provides a high-level interface for creating attractive\n",
    "and informative statistical graphics. Here are five plots that we can plot using Seaborn along with their uses:\n",
    "\n",
    "    Histograms - A histogram is a bar graph-like representation of data that buckets a range of outcomes into columns along the x-axis.\n",
    "    It is useful for visualizing the distribution of a single numerical variable. Seaborn's distplot() function can be used to create\n",
    "    histograms with optional kernel density estimates (KDE).\n",
    "\n",
    "    Heatmaps - A heatmap is a graphical representation of data where the individual values contained in a matrix are represented as colors.\n",
    "    It is useful for visualizing the correlation between variables. Seaborn's heatmap() function can be used to create heatmaps.\n",
    "\n",
    "    Box plots - A box plot is a method for graphically demonstrating the spread of a dataset using quartiles. It is useful for detecting\n",
    "    outliers and comparing distributions between different groups or variables. Seaborn's boxplot() function can be used to create box plots.\n",
    "\n",
    "    Scatter plots - A scatter plot is a diagram where each value in the data set is represented by a dot. It is useful for visualizing the\n",
    "    relationship between two variables. Seaborn's scatterplot() function can be used to create scatter plots.\n",
    "\n",
    "    Pair plots - A pair plot is a scatterplot matrix that shows the relationship between pairs of variables in a dataset. It is useful for \n",
    "    identifying correlations and visualizing the distribution of variables. Seaborn's pairplot() function can be used to create pair plots."
   ]
  },
  {
   "cell_type": "code",
   "execution_count": null,
   "id": "b65cedd3-f2b0-4945-a5cc-858448520ac1",
   "metadata": {},
   "outputs": [],
   "source": [
    "Load the \"fmri\" dataset using the load_dataset function of seaborn. Plot a line plot using x =\"timepoint\" and y = \"signal\" for \n",
    "different events and regions.\n",
    "Ans:\n",
    "import seaborn as sns\n",
    "\n",
    "# Load the fmri dataset\n",
    "fmri = sns.load_dataset(\"fmri\")\n",
    "\n",
    "# Plot a line plot\n",
    "sns.lineplot(x=\"timepoint\", y=\"signal\", hue=\"event\", style=\"region\", data=fmri)\n"
   ]
  },
  {
   "cell_type": "code",
   "execution_count": null,
   "id": "72b9ba3b-d07e-45f5-8d94-c1d748bac0a7",
   "metadata": {},
   "outputs": [],
   "source": [
    "Load the \"titanic\" dataset using the load_dataset function of seaborn. Plot two box plots using x =\n",
    "'pclass', y = 'age' and y = 'fare'.\n",
    "Note: pclass, age, and fare are columns in the titanic dataset?\n",
    "Ans:\n",
    "import seaborn as sns\n",
    "\n",
    "# Load the titanic dataset\n",
    "titanic = sns.load_dataset(\"titanic\")\n",
    "\n",
    "# Plot two box plots\n",
    "sns.boxplot(x=\"pclass\", y=\"age\", data=titanic)\n",
    "sns.boxplot(x=\"pclass\", y=\"fare\", data=titanic)\n"
   ]
  },
  {
   "cell_type": "code",
   "execution_count": 4,
   "id": "bf8131c2-ce36-49c6-b8e3-bc9a0647cfe5",
   "metadata": {},
   "outputs": [],
   "source": [
    "Use the \"diamonds\" dataset from seaborn to plot a histogram for the 'price' column. Use the hue\n",
    "parameter for the 'cut' column of the diamonds dataset?\n",
    "Ans:\n",
    "import seaborn as sns\n",
    "\n",
    "# Load the diamonds dataset\n",
    "diamonds = sns.load_dataset(\"diamonds\")\n",
    "\n",
    "# Plot a histogram with hue parameter\n",
    "sns.histplot(data=diamonds, x=\"price\", hue=\"cut\")\n"
   ]
  },
  {
   "cell_type": "code",
   "execution_count": null,
   "id": "ebf7d8cf-4739-4784-9434-70b7ae5c74a4",
   "metadata": {},
   "outputs": [],
   "source": [
    "Use the \"iris\" dataset from seaborn to plot a pair plot. Use the hue parameter for the \"species\" column\n",
    "of the iris dataset?\n",
    "Ans:\n",
    "import seaborn as sns\n",
    "\n",
    "# Load the iris dataset\n",
    "iris = sns.load_dataset(\"iris\")\n",
    "\n",
    "# Plot a pair plot with hue parameter\n",
    "sns.pairplot(data=iris, hue=\"species\")\n"
   ]
  },
  {
   "cell_type": "code",
   "execution_count": null,
   "id": "2d5704f4-fc37-455d-ab4a-4b66a8bd42e5",
   "metadata": {},
   "outputs": [],
   "source": [
    "Use the \"flights\" dataset from seaborn to plot a heatmap?\n",
    "Ans:\n",
    "import seaborn as sns\n",
    "\n",
    "# Load the flights dataset\n",
    "flights = sns.load_dataset(\"flights\")\n",
    "\n",
    "# Pivot the data to create a matrix\n",
    "flights_matrix = flights.pivot(\"month\", \"year\", \"passengers\")\n",
    "\n",
    "# Plot a heatmap\n",
    "sns.heatmap(flights_matrix, cmap=\"YlGnBu\")\n"
   ]
  }
 ],
 "metadata": {
  "kernelspec": {
   "display_name": "Python 3 (ipykernel)",
   "language": "python",
   "name": "python3"
  },
  "language_info": {
   "codemirror_mode": {
    "name": "ipython",
    "version": 3
   },
   "file_extension": ".py",
   "mimetype": "text/x-python",
   "name": "python",
   "nbconvert_exporter": "python",
   "pygments_lexer": "ipython3",
   "version": "3.10.8"
  }
 },
 "nbformat": 4,
 "nbformat_minor": 5
}
