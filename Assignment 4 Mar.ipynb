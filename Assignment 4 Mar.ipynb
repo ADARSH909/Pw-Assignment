{
 "cells": [
  {
   "cell_type": "code",
   "execution_count": 2,
   "id": "e1ad4b65-35c3-487e-af43-83f4675c6795",
   "metadata": {},
   "outputs": [],
   "source": [
    "# # Load the \"titanic\" dataset using the load_dataset function of seaborn. Use Plotly express to plot a\n",
    "# # scatter plot for age and fare columns in the titanic dataset?\n",
    "# # Ans:\n",
    "import seaborn as sns\n",
    "import plotly.express as px\n",
    "\n",
    "# Load the titanic dataset\n",
    "titanic = sns.load_dataset(\"titanic\")\n",
    "\n",
    "# Create a scatter plot using Plotly Express\n",
    "fig = px.scatter(titanic, x=\"age\", y=\"fare\")\n",
    "\n",
    "# Show the plot\n",
    "fig.show()\n"
   ]
  },
  {
   "cell_type": "code",
   "execution_count": null,
   "id": "14f1f75e-05b4-4a10-80de-44284e959e1d",
   "metadata": {},
   "outputs": [],
   "source": [
    "Using the tips dataset in the Plotly library, plot a box plot using Plotly express?\n",
    "Ans:\n",
    "import plotly.express as px\n",
    "\n",
    "# Load the tips dataset from Plotly\n",
    "tips = px.data.tips\n",
    "\n",
    "# Create a box plot using Plotly Express\n",
    "fig = px.box(tips, x=\"day\", y=\"total_bill\", color=\"smoker\")\n",
    "\n",
    "# Show the plot\n",
    "fig.show()\n"
   ]
  },
  {
   "cell_type": "code",
   "execution_count": null,
   "id": "93b9ab56-c0ea-414b-a8c4-a3d8441af36c",
   "metadata": {},
   "outputs": [],
   "source": [
    "Using the tips dataset in the Plotly library, Plot a histogram for x= \"sex\" and y=\"total_bill\" column in\n",
    "the tips dataset. Also, use the \"smoker\" column with the pattern_shape parameter and the \"day\"\n",
    "column with the color parameter?\n",
    "Ans:\n",
    "import plotly.express as px\n",
    "\n",
    "# Load the tips dataset from Plotly\n",
    "tips = px.data.tips\n",
    "\n",
    "# Create a histogram with categorical variables\n",
    "fig = px.histogram(tips, x=\"sex\", y=\"total_bill\", color=\"day\", pattern_shape=\"smoker\")\n",
    "\n",
    "# Show the plot\n",
    "fig.show()\n"
   ]
  },
  {
   "cell_type": "code",
   "execution_count": null,
   "id": "85629a7d-8d75-47d2-8e0b-ce5e92ed6167",
   "metadata": {},
   "outputs": [],
   "source": [
    "Using the iris dataset in the Plotly library, Plot a scatter matrix plot, using the \"species\" column for\n",
    "the color parameter.\n",
    "Note: Use \"sepal_length\", \"sepal_width\", \"petal_length\", \"petal_width\" columns only with the\n",
    "dimensions parameter?\n",
    "Ans:\n",
    "import plotly.express as px\n",
    "import pandas as pd\n",
    "\n",
    "# load iris dataset\n",
    "iris_df = px.data.iris()\n",
    "\n",
    "# plot scatter matrix plot\n",
    "fig = px.scatter_matrix(iris_df, dimensions=[\"sepal_length\", \"sepal_width\", \"petal_length\", \"petal_width\"], color=\"species\")\n",
    "fig.show()\n"
   ]
  },
  {
   "cell_type": "code",
   "execution_count": null,
   "id": "c578a8e7-270d-4f95-af33-8e6b94f67dc0",
   "metadata": {},
   "outputs": [],
   "source": [
    "What is Distplot? Using Plotly express, plot a distplot?\n",
    "Ans:\n",
    "Distplot is a plot in seaborn library used to visualize the distribution of a dataset. It plots a histogram with a curve on top, \n",
    "which is a kernel density estimation (KDE) plot. It can also plot a rug plot, which is a small vertical tick at each observation point along the x-axis.\n",
    "import seaborn as sns\n",
    "import plotly.express as px\n",
    "\n",
    "# load the tips dataset\n",
    "tips_df = sns.load_dataset('tips')\n",
    "\n",
    "# plot a distplot using plotly express\n",
    "fig = px.histogram(tips_df, x=\"total_bill\", nbins=30, opacity=0.7, marginal=\"rug\", \n",
    "                   title=\"Distribution of Total Bill\")\n",
    "fig.show()\n"
   ]
  }
 ],
 "metadata": {
  "kernelspec": {
   "display_name": "Python 3 (ipykernel)",
   "language": "python",
   "name": "python3"
  },
  "language_info": {
   "codemirror_mode": {
    "name": "ipython",
    "version": 3
   },
   "file_extension": ".py",
   "mimetype": "text/x-python",
   "name": "python",
   "nbconvert_exporter": "python",
   "pygments_lexer": "ipython3",
   "version": "3.10.8"
  }
 },
 "nbformat": 4,
 "nbformat_minor": 5
}
