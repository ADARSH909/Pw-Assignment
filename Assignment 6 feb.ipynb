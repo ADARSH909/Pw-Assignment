{
 "cells": [
  {
   "cell_type": "code",
   "execution_count": 53,
   "id": "5a1c32c2-c1da-4236-81c1-c179ad026bb6",
   "metadata": {},
   "outputs": [
    {
     "name": "stdout",
     "output_type": "stream",
     "text": [
      "Encrypted Sentence:  i$wznt$to$yexome$z$dztz$sxientist.\n"
     ]
    }
   ],
   "source": [
    "#  Write a python program for encrypting a message sent to you by your friend. The logic of encryption \n",
    "# should be such that, for a the output should be z. For b, the output should be y. For c, the output should \n",
    "# be x respectively. Also, the whitespace should be replaced with a dollar sign. Keep the punctuation \n",
    "# marks unchanged.\n",
    "\n",
    "# Input Sentence: I want to become a Data Scientist.\n",
    "\n",
    "# Encrypt the above input sentence using the program you just created\n",
    "\n",
    "def encrypt_message(message):\n",
    "    encrypted_message = \"\"\n",
    "    message=message.lower()\n",
    "    for char in message:\n",
    "        if char == \" \":\n",
    "            encrypted_message += \"$\"\n",
    "        elif char ==\"a\":\n",
    "            encrypted_message += \"z\"\n",
    "        elif char ==\"b\":\n",
    "            encrypted_message += \"y\"\n",
    "        elif char ==\"c\":\n",
    "            encrypted_message += \"x\"\n",
    "        else:\n",
    "            encrypted_message += char\n",
    "    return encrypted_message\n",
    "\n",
    "input_sentence = \"I want to become a Data Scientist.\"\n",
    "encrypted_sentence = encrypt_message(input_sentence)\n",
    "print(\"Encrypted Sentence: \", encrypted_sentence)"
   ]
  },
  {
   "cell_type": "code",
   "execution_count": 75,
   "id": "f9f3d069-da12-43fc-a697-aa3402284597",
   "metadata": {},
   "outputs": [
    {
     "name": "stdout",
     "output_type": "stream",
     "text": [
      "flat list [1, 2, 3, 4, 44, 55, 66, True, False, 34, 56, 78, 89, 34, 1, 2, 3, 34, 55, 67, 78, 89, 45, 22, 61, 34, 1, 4, 56, 'data science', 'Machine Learning']\n",
      "Multiply 4134711838987085478833841242112000\n"
     ]
    }
   ],
   "source": [
    "#  Create a function which will take a list as an argument and return the product of all the numbers \n",
    "# after creating a flat list.\n",
    "\n",
    "# Use the below-given list as an argument for your function.\n",
    "\n",
    "# list1 = [1,2,3,4, [44,55,66, True], False, (34,56,78,89,34), {1,2,3,3,2,1}, {1:34, \"key2\": [55, 67, 78, 89], 4: (45, \n",
    "# 22, 61, 34)}, [56, 'data science'], 'Machine Learning']\n",
    "\n",
    "list1 = [1,2,3,4, [44,55,66, True], False, (34,56,78,89,34), {1,2,3,3,2,1}, {1:34, \"key2\": [55, 67, 78, 89], 4: (45, \n",
    "22, 61, 34)}, [56, 'data science'], 'Machine Learning']\n",
    "\n",
    "def flat(list1):\n",
    "    flatlist=[]\n",
    "    dict_item={}\n",
    "    \n",
    "    for element in list1:\n",
    "        if type(element) is list:\n",
    "            for item in element:\n",
    "                flatlist.append(item)\n",
    "        elif type(element) is bool :\n",
    "            flatlist.append(element)\n",
    "        elif type(element) is tuple:\n",
    "            for item in element:\n",
    "                flatlist.append(item)\n",
    "        elif type(element) is set:\n",
    "            for item in element:\n",
    "                flatlist.append(item)\n",
    "        elif type(element) is dict:\n",
    "            for item in element.values():\n",
    "                if type(item) is list:\n",
    "                    for i in item:\n",
    "                        flatlist.append(i)\n",
    "                elif type(item) is tuple:\n",
    "                    for i in item :\n",
    "                        flatlist.append(i)\n",
    "                else:\n",
    "                    flatlist.append(item)\n",
    "            for item in element.keys():\n",
    "                if type(item) is int:\n",
    "                    flatlist.append(item)\n",
    "        else:\n",
    "            flatlist.append(element)\n",
    "\n",
    "    return flatlist\n",
    "def multiply_number(flatlist):\n",
    "    result=1\n",
    "    for i in flatlist:\n",
    "        if type(i) is int:\n",
    "            result=result*i\n",
    "    return result        \n",
    "flatlist=flat(list1)\n",
    "print(\"flat list\",flatlist)\n",
    "print(\"Multiply\",multiply_number(flatlist))\n"
   ]
  }
 ],
 "metadata": {
  "kernelspec": {
   "display_name": "Python 3 (ipykernel)",
   "language": "python",
   "name": "python3"
  },
  "language_info": {
   "codemirror_mode": {
    "name": "ipython",
    "version": 3
   },
   "file_extension": ".py",
   "mimetype": "text/x-python",
   "name": "python",
   "nbconvert_exporter": "python",
   "pygments_lexer": "ipython3",
   "version": "3.10.8"
  }
 },
 "nbformat": 4,
 "nbformat_minor": 5
}
