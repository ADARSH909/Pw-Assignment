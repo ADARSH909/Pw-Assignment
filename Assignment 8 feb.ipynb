{
 "cells": [
  {
   "cell_type": "code",
   "execution_count": null,
   "id": "9645025a-ee9a-43f5-9b4d-acf553b97f1f",
   "metadata": {},
   "outputs": [],
   "source": [
    "What is Abstraction in OOps? Explain with an example\n",
    "ANS:\n",
    "    Abstraction is a fundamental concept in object-oriented programming (OOP) that refers to \n",
    "the process of hiding the implementation details of a class and showing only the essential \n",
    "features of the class to the outside world. The idea behind abstraction is to simplify \n",
    "complex systems by breaking them down into more manageable parts, while still preserving the important properties of the whole system.\n",
    "\n",
    "For example, consider a class named \"Car\". The class might contain details such as the type of engine,\n",
    "the number of wheels, the color of the car, etc. To the outside world, however, \n",
    "it is not necessary to know the details of the engine or the exact number of wheels. \n",
    "All that is important is that the class represents a car and has the ability to start and stop.\n",
    "So, in this example, the essential features of the class \"Car\" (i.e., the ability to start and stop) are abstracted away \n",
    "from the implementation details, making the class easier to use and understand.\n"
   ]
  },
  {
   "cell_type": "code",
   "execution_count": null,
   "id": "77f7f546-f4fa-44b7-961f-ee3990873c28",
   "metadata": {},
   "outputs": [],
   "source": [
    " Differentiate between Abstraction and Encapsulation. Explain with an example\n",
    "    \n",
    "ANS:Abstraction and encapsulation are two fundamental concepts in object-oriented programming (OOP)\n",
    "that are often used together to create well-designed and maintainable code. However, they have \n",
    "different meanings and purposes:\n",
    "\n",
    "Abstraction: Abstraction is the process of hiding the implementation details of a class and \n",
    "showing only the essential features of the class to the outside world. It helps to simplify \n",
    "complex systems by breaking them down into more manageable parts, while still preserving the \n",
    "important properties of the whole system.\n",
    "\n",
    "For example, consider a class named \"Car\". The class might contain details such as the type \n",
    "of engine, the number of wheels, the color of the car, etc. To the outside world, however,\n",
    "it is not necessary to know the details of the engine or the exact number of wheels. \n",
    "All that is important is that the class represents a car and has the ability to start and stop.\n",
    "So, in this example, the essential features of the class \"Car\" \n",
    "(i.e., the ability to start and stop) are abstracted away from the implementation details, making the class easier to use and understand.\n",
    "\n",
    "Encapsulation: Encapsulation is the process of wrapping data and functions within an object, \n",
    "making it inaccessible to the outside world except through a defined interface. \n",
    "Encapsulation helps to protect the data and methods of a class from external modifications \n",
    "that could compromise the integrity of the class.\n",
    "\n",
    "For example, consider a class named \"Bank Account\". The class might contain data such as the account balance,\n",
    "the account holder's name, etc. To the outside world, it is not necessary to know the exact details of how the\n",
    "balance is stored or how the account holder's name is managed. All that is important is that the class represents\n",
    "a bank account and has methods for depositing and withdrawing money. So, in this example, the data and methods\n",
    "of the class \"Bank Account\" are encapsulated, making the class more secure and protected from external changes.\n",
    "\n",
    "In summary, abstraction is used to simplify complex systems by hiding the implementation details, \n",
    "while encapsulation is used to protect the data and methods of a class by wrapping them within the object. \n",
    "Both concepts work together to create maintainable and well-designed code."
   ]
  },
  {
   "cell_type": "code",
   "execution_count": null,
   "id": "5d6d37ee-68f2-451c-8918-0481e0f7386b",
   "metadata": {},
   "outputs": [],
   "source": [
    "What is abc module in python? Why is it used?\n",
    "ANS:\n",
    "    The abc (abstract base class) module in Python is used to define abstract base classes.\n",
    "    An abstract base class is a class that cannot be instantiated, but can be used as a base\n",
    "    class for other classes. It defines a common interface for its subclasses, meaning that\n",
    "    any subclass of an abstract base class must implement certain methods.\n",
    "\n",
    "The main purpose of using abstract base classes is to enforce a common interface for\n",
    "a set of related classes. For example, you can define an abstract base class named Shape that represents a shape.\n",
    "The Shape class can define an abstract method named area, which returns the area of the shape. \n",
    "Then, you can create subclasses for specific shapes, such as Rectangle and Circle, that implement the area method. \n",
    "This way, you ensure that all subclasses of Shape have a common interface, making it easier to use and manipulate the shapes in your code.\n"
   ]
  },
  {
   "cell_type": "code",
   "execution_count": null,
   "id": "b040792e-d867-472d-b41b-b095e899cf41",
   "metadata": {},
   "outputs": [],
   "source": [
    " How can we achieve data abstraction?\n",
    "    ANS:\n",
    "        In programming, data abstraction can be achieved through the use of abstract data types (ADTs). \n",
    "        An ADT is a type that is defined in terms of the operations that can be performed on it, rather \n",
    "        than in terms of its internal representation. For example, a stack is an ADT that is defined by \n",
    "        its operations (push, pop, and peek), rather than by the specific implementation used to store the data\n",
    "        (e.g., an array or a linked list).\n",
    "\n",
    "In order to achieve data abstraction, you need to separate the implementation details of a data structure \n",
    "from its interface. This is usually done by creating an implementation class that contains the implementation details, \n",
    "and a wrapper class that provides a high-level interface to the implementation class. The implementation class is usually\n",
    "hidden from the user and is only accessible through the wrapper class.\n",
    "\n",
    "For example, consider a stack implementation. You could define a stack implementation class that uses an \n",
    "array to store the data, and a stack wrapper class that provides a high-level interface to the stack.\n",
    "The stack wrapper class would have methods for pushing and popping elements, but the implementation \n",
    "details of how the data is stored would be hidden from the user.\n"
   ]
  },
  {
   "cell_type": "code",
   "execution_count": null,
   "id": "4fa437e1-2006-4e55-9dd0-0bfa75983b82",
   "metadata": {},
   "outputs": [],
   "source": [
    " Can we create an instance of an abstract class? Explain your answer\n",
    "    ANS:\n",
    "        No, you cannot create an instance of an abstract class. \n",
    "        An abstract class is a class that cannot be instantiated on its own, \n",
    "        but is intended to be used as a base class for other classes. \n",
    "        The purpose of an abstract class is to provide a common interface for its subclasses, \n",
    "        meaning that any subclass of an abstract class must implement certain methods or properties.\n",
    "\n",
    "Since an abstract class is not intended to be used as a standalone object,\n",
    "it makes no sense to create an instance of it. Instead, you would create instances of its concrete subclasses, \n",
    "which implement the required methods or properties defined by the abstract class.\n",
    "\n",
    "For example, consider an abstract class named Shape that represents a shape.\n",
    "The Shape class might define an abstract method named area, which returns the area of the shape.\n",
    "Since the Shape class is abstract, you cannot create an instance of it. \n",
    "Instead, you would create subclasses for specific shapes, such as Rectangle and Circle, that implement the area method.\n",
    "Then, you would create instances of these concrete subclasses to represent specific shapes in your code.\n"
   ]
  }
 ],
 "metadata": {
  "kernelspec": {
   "display_name": "Python 3 (ipykernel)",
   "language": "python",
   "name": "python3"
  },
  "language_info": {
   "codemirror_mode": {
    "name": "ipython",
    "version": 3
   },
   "file_extension": ".py",
   "mimetype": "text/x-python",
   "name": "python",
   "nbconvert_exporter": "python",
   "pygments_lexer": "ipython3",
   "version": "3.10.8"
  }
 },
 "nbformat": 4,
 "nbformat_minor": 5
}
