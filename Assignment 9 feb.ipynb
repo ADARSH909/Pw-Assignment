{
 "cells": [
  {
   "cell_type": "code",
   "execution_count": 49,
   "id": "88ac7cc5-c714-45c6-86da-a403789583ae",
   "metadata": {},
   "outputs": [
    {
     "name": "stdout",
     "output_type": "stream",
     "text": [
      "Thar\n",
      "150\n",
      "60\n"
     ]
    }
   ],
   "source": [
    "# Q1, Create a vehicle class with an init method having instance variables as name_of_vehicle, max_speed\n",
    "# and average_of_vehicle.\n",
    "# ANS :\n",
    "class Vehicle:\n",
    "    \n",
    "    def __init__(self, name_of_vehicle, max_speed, average_of_vehicle):\n",
    "        self.name_of_vehicle = name_of_vehicle\n",
    "        self.max_speed = max_speed\n",
    "        self.average_of_vehicle = average_of_vehicle\n",
    "    def vehicle_detail(self):\n",
    "        return self.name_of_vehicle,self.max_speed,self.average_of_vehicle\n",
    "        \n",
    "a=Vehicle(\"Thar\",150,60)\n",
    "print(a.name_of_vehicle)\n",
    "print(a.max_speed)\n",
    "print(a.average_of_vehicle)"
   ]
  },
  {
   "cell_type": "code",
   "execution_count": 64,
   "id": "cfe8bfd5-ef58-40ec-9edc-607694653063",
   "metadata": {},
   "outputs": [
    {
     "name": "stdout",
     "output_type": "stream",
     "text": [
      "8\n"
     ]
    }
   ],
   "source": [
    "# Create a child class car from the vehicle class created in Que 1, which will inherit the vehicle class.\n",
    "# Create a method named seating_capacity which takes capacity as an argument and returns the name of\n",
    "# the vehicle and its seating capacity.\n",
    "class Vehicle:\n",
    "    def __init__(self, name_of_vehicle, max_speed, average_of_vehicle):\n",
    "        self.name_of_vehicle = name_of_vehicle\n",
    "        self.max_speed = max_speed\n",
    "        self.average_of_vehicle = average_of_vehicle\n",
    "\n",
    "class Car(Vehicle):\n",
    "    def seating_capacity(self, capacity):\n",
    "        return f\"{self.name_of_vehicle} has a seating capacity of {capacity}.\"\n",
    "b=car(8)\n",
    "print(b.seating_capacity)"
   ]
  },
  {
   "cell_type": "code",
   "execution_count": 66,
   "id": "46a6e848-13f2-4264-b034-34705175fc7f",
   "metadata": {},
   "outputs": [
    {
     "name": "stdout",
     "output_type": "stream",
     "text": [
      "Parent1 method1\n",
      "Parent2 method2\n",
      "Child method3\n"
     ]
    }
   ],
   "source": [
    " # What is multiple inheritance? Write a python code to demonstrate multiple inheritance\n",
    "# Ans:\n",
    "# Multiple inheritance is a feature in object-oriented programming languages where a class can inherit properties\n",
    "# and behaviors from more than one parent class. This allows a new class to reuse and combine the properties and \n",
    "# behaviors of existing classes, leading to more modular and flexible code.\n",
    "\n",
    "# Here's an example of how to demonstrate multiple inheritance in Python:\n",
    "class Parent1:\n",
    "    def method1(self):\n",
    "        print(\"Parent1 method1\")\n",
    "\n",
    "class Parent2:\n",
    "    def method2(self):\n",
    "        print(\"Parent2 method2\")\n",
    "\n",
    "class Child(Parent1, Parent2):\n",
    "    def method3(self):\n",
    "        print(\"Child method3\")\n",
    "\n",
    "c = Child()\n",
    "c.method1()  \n",
    "c.method2()  \n",
    "c.method3()  \n"
   ]
  },
  {
   "cell_type": "code",
   "execution_count": 71,
   "id": "b974e08e-d71a-41d0-930d-09d6d0111f7a",
   "metadata": {},
   "outputs": [
    {
     "name": "stdout",
     "output_type": "stream",
     "text": [
      "John Doe\n",
      "30\n",
      "Jane Doe\n",
      "40\n"
     ]
    }
   ],
   "source": [
    "# What are getter and setter in python? Create a class and create a getter and a setter method in this class.\n",
    "# Ans:\n",
    "# In Python, getters and setters are methods that allow you to retrieve or set the value of an instance variable in a controlled\n",
    "# and predictable manner. The getter method retrieves the value of an instance variable, while the setter method sets its value.\n",
    "\n",
    "# Here's an example of a class with getter and setter methods:\n",
    "class Person:\n",
    "    def __init__(self, name, age):\n",
    "        self._name = name\n",
    "        self._age = age\n",
    "\n",
    "    @property\n",
    "    def name(self):\n",
    "        return self._name\n",
    "\n",
    "    @name.setter\n",
    "    def name(self, name):\n",
    "        self._name = name\n",
    "\n",
    "    @property\n",
    "    def age(self):\n",
    "        return self._age\n",
    "\n",
    "    @age.setter\n",
    "    def age(self, age):\n",
    "        if age < 0:\n",
    "            raise ValueError(\"Age cannot be negative.\")\n",
    "        self._age = age\n",
    "\n",
    "person = Person(\"John Doe\", 30)\n",
    "print(person.name) \n",
    "print(person.age)  \n",
    "person.name = \"Jane Doe\"\n",
    "person.age = 40\n",
    "print(person.name) \n",
    "print(person.age)  \n"
   ]
  },
  {
   "cell_type": "code",
   "execution_count": 72,
   "id": "6480133b-18b4-4b32-b6f8-b604282f339b",
   "metadata": {},
   "outputs": [
    {
     "name": "stdout",
     "output_type": "stream",
     "text": [
      "200\n",
      "78.5\n"
     ]
    }
   ],
   "source": [
    "# What is method overriding in python? Write a python code to demonstrate method overriding.\n",
    "# Ans:\n",
    "# Method overriding is a feature in object-oriented programming where a subclass provides its own implementation for\n",
    "# a method that is already defined in its parent class. This allows the subclass to inherit the general behavior of the parent class, \n",
    "# but modify it to better fit its specific needs.\n",
    "\n",
    "# Here's an example of how to demonstrate method overriding in Python:\n",
    "class Shape:\n",
    "    def area(self):\n",
    "        pass\n",
    "\n",
    "class Rectangle(Shape):\n",
    "    def __init__(self, width, height):\n",
    "        self.width = width\n",
    "        self.height = height\n",
    "\n",
    "    def area(self):\n",
    "        return self.width * self.height\n",
    "\n",
    "class Circle(Shape):\n",
    "    def __init__(self, radius):\n",
    "        self.radius = radius\n",
    "\n",
    "    def area(self):\n",
    "        return 3.14 * self.radius * self.radius\n",
    "\n",
    "rect = Rectangle(10, 20)\n",
    "print(rect.area())  \n",
    "\n",
    "circ = Circle(5)\n",
    "print(circ.area()) \n"
   ]
  }
 ],
 "metadata": {
  "kernelspec": {
   "display_name": "Python 3 (ipykernel)",
   "language": "python",
   "name": "python3"
  },
  "language_info": {
   "codemirror_mode": {
    "name": "ipython",
    "version": 3
   },
   "file_extension": ".py",
   "mimetype": "text/x-python",
   "name": "python",
   "nbconvert_exporter": "python",
   "pygments_lexer": "ipython3",
   "version": "3.10.8"
  }
 },
 "nbformat": 4,
 "nbformat_minor": 5
}
